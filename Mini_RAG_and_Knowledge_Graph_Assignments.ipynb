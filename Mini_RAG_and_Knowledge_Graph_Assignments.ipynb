{
  "nbformat": 4,
  "nbformat_minor": 0,
  "metadata": {
    "colab": {
      "provenance": []
    },
    "kernelspec": {
      "name": "python3",
      "display_name": "Python 3"
    },
    "language_info": {
      "name": "python"
    }
  },
  "cells": [
    {
      "cell_type": "markdown",
      "source": [
        "**Assignment 1**"
      ],
      "metadata": {
        "id": "jx-p88KXIj9M"
      }
    },
    {
      "cell_type": "code",
      "source": [
        "import string\n",
        "import chromadb\n",
        "from sentence_transformers import SentenceTransformer"
      ],
      "metadata": {
        "id": "lQMG8erWEJAm"
      },
      "execution_count": 4,
      "outputs": []
    },
    {
      "cell_type": "code",
      "source": [
        "def preprocess(text):\n",
        "    return text.lower().translate(str.maketrans('', '', string.punctuation))"
      ],
      "metadata": {
        "id": "3BKp8seCEt3p"
      },
      "execution_count": 15,
      "outputs": []
    },
    {
      "cell_type": "code",
      "source": [
        "# Hardcoded documents\n",
        "doc = [\n",
        "    \"Machine learning lets computers learn without being programmed.\",\n",
        "    \"Natural language processing helps machines understand human language.\",\n",
        "    \"Deep learning uses neural networks to solve problems.\",\n",
        "    \"ChromaDB stores and retrieves vector embeddings efficiently.\",\n",
        "    \"Google Colab is a free tool for coding and machine learning.\"\n",
        "]"
      ],
      "metadata": {
        "id": "kW1R9hyEE2qX"
      },
      "execution_count": 16,
      "outputs": []
    },
    {
      "cell_type": "code",
      "source": [
        "clean_docs = [preprocess(docs) for docs in doc]"
      ],
      "metadata": {
        "id": "OEIfoa0DGrZU"
      },
      "execution_count": 17,
      "outputs": []
    },
    {
      "cell_type": "code",
      "source": [
        "model = SentenceTransformer('all-MiniLM-L6-v2')\n",
        "doc_embeddings = model.encode(clean_docs).tolist()"
      ],
      "metadata": {
        "id": "DL_goXksGx_3"
      },
      "execution_count": 19,
      "outputs": []
    },
    {
      "cell_type": "code",
      "source": [
        "client = chromadb.Client()\n",
        "if \"mini_rag\" in [col.name for col in client.list_collections()]:\n",
        "    client.delete_collection(\"mini_rag\")\n",
        "\n",
        "collection = client.create_collection(\"mini_rag\")\n",
        "\n",
        "collection.add(documents=clean_docs, embeddings=doc_embeddings, ids=[str(i) for i in range(len(doc))])"
      ],
      "metadata": {
        "id": "yu_o6fjyG5q5"
      },
      "execution_count": 22,
      "outputs": []
    },
    {
      "cell_type": "code",
      "source": [
        "query = input(\"Ask a question: \")\n",
        "query_vec = model.encode([preprocess(query)]).tolist()"
      ],
      "metadata": {
        "colab": {
          "base_uri": "https://localhost:8080/"
        },
        "id": "d3ewZbSjHBxZ",
        "outputId": "dc45a8fb-95a6-4fef-f5bd-ccb236b804fb"
      },
      "execution_count": 23,
      "outputs": [
        {
          "name": "stdout",
          "output_type": "stream",
          "text": [
            "Ask a question: What is Google Colab used for?\n"
          ]
        }
      ]
    },
    {
      "cell_type": "code",
      "source": [
        "result = collection.query(query_embeddings=query_vec, n_results=1)\n",
        "print(\"Most relevant document:\\n\", result['documents'][0][0])"
      ],
      "metadata": {
        "colab": {
          "base_uri": "https://localhost:8080/"
        },
        "id": "VokEqcxpHkOm",
        "outputId": "8bf41f80-beac-40aa-f9fb-a690a6e3984d"
      },
      "execution_count": 25,
      "outputs": [
        {
          "output_type": "stream",
          "name": "stdout",
          "text": [
            "Most relevant document:\n",
            " google colab is a free tool for coding and machine learning\n"
          ]
        }
      ]
    },
    {
      "cell_type": "code",
      "source": [],
      "metadata": {
        "id": "p1yCZWt6H932"
      },
      "execution_count": null,
      "outputs": []
    },
    {
      "cell_type": "markdown",
      "source": [
        "**Assignment 2**"
      ],
      "metadata": {
        "id": "89lGwWO1JGT-"
      }
    },
    {
      "cell_type": "code",
      "source": [
        "!pip install -q rdflib sentence-transformers chromadb"
      ],
      "metadata": {
        "id": "1fxcVdMDJKR6"
      },
      "execution_count": 67,
      "outputs": []
    },
    {
      "cell_type": "code",
      "source": [
        "from rdflib import Graph, Namespace, RDF\n",
        "from sentence_transformers import SentenceTransformer\n",
        "import chromadb"
      ],
      "metadata": {
        "id": "mPzpKkoiKftx"
      },
      "execution_count": 68,
      "outputs": []
    },
    {
      "cell_type": "code",
      "source": [
        "g = Graph()\n",
        "EX = Namespace(\"http://example.org/\")"
      ],
      "metadata": {
        "id": "xzshGli2Kmej"
      },
      "execution_count": 69,
      "outputs": []
    },
    {
      "cell_type": "code",
      "source": [
        "g.add((EX.Sham, RDF.type, EX.Person))\n",
        "g.add((EX.Ram, RDF.type, EX.Person))\n",
        "g.add((EX.Sham, EX.knows, EX.Ram))\n",
        "g.add((EX.Ram, EX.worksAt, EX.ABC))\n",
        "g.add((EX.Sham, EX.worksAt, EX.XYZLtd))"
      ],
      "metadata": {
        "colab": {
          "base_uri": "https://localhost:8080/"
        },
        "id": "5AmgF5xkKqsK",
        "outputId": "3bd69354-eade-4b61-97eb-86508614cba8"
      },
      "execution_count": 70,
      "outputs": [
        {
          "output_type": "execute_result",
          "data": {
            "text/plain": [
              "<Graph identifier=N78c242f476cf4e9ea535902eeffe78ef (<class 'rdflib.graph.Graph'>)>"
            ]
          },
          "metadata": {},
          "execution_count": 70
        }
      ]
    },
    {
      "cell_type": "code",
      "source": [
        "sentences = [f\"{s.split('/')[-1]} {p.split('/')[-1]} {o.split('/')[-1]}\" for s, p, o in g]"
      ],
      "metadata": {
        "id": "CkyBShuOKuWo"
      },
      "execution_count": 71,
      "outputs": []
    },
    {
      "cell_type": "code",
      "source": [
        "model = SentenceTransformer('all-MiniLM-L6-v2')\n",
        "embeddings = model.encode(sentences).tolist()"
      ],
      "metadata": {
        "id": "I2k1d4nMKzAa"
      },
      "execution_count": 72,
      "outputs": []
    },
    {
      "cell_type": "code",
      "source": [
        "client = chromadb.Client()"
      ],
      "metadata": {
        "id": "5wioFpeJK242"
      },
      "execution_count": 73,
      "outputs": []
    },
    {
      "cell_type": "code",
      "source": [
        "if \"kg_collection\" in [col.name for col in client.list_collections()]:\n",
        "    client.delete_collection(\"kg_collection\")\n",
        "collection = client.create_collection(\"kg_collection\")\n",
        "collection.add(documents=sentences, embeddings=embeddings, ids=[str(i) for i in range(len(sentences))])"
      ],
      "metadata": {
        "id": "XIfrQt0mK_nd"
      },
      "execution_count": 74,
      "outputs": []
    },
    {
      "cell_type": "code",
      "source": [
        "query = input(\"Ask a question: \")\n",
        "query_embedding = model.encode([query]).tolist()"
      ],
      "metadata": {
        "colab": {
          "base_uri": "https://localhost:8080/"
        },
        "id": "rzWMyJajLD3F",
        "outputId": "d5848ffa-8a69-4e5a-fb4c-d2a16e1168ca"
      },
      "execution_count": 77,
      "outputs": [
        {
          "name": "stdout",
          "output_type": "stream",
          "text": [
            "Ask a question: Who does Sham know?\n"
          ]
        }
      ]
    },
    {
      "cell_type": "code",
      "source": [
        "result = collection.query(query_embeddings=query_embedding, n_results=1)\n",
        "print(\"Most relevant fact:\\n\", result['documents'][0][0])"
      ],
      "metadata": {
        "colab": {
          "base_uri": "https://localhost:8080/"
        },
        "id": "8cFvLPVgLLvn",
        "outputId": "f0e58e67-d4ca-4558-8148-ffe9077aa82d"
      },
      "execution_count": 78,
      "outputs": [
        {
          "output_type": "stream",
          "name": "stdout",
          "text": [
            "Most relevant fact:\n",
            " Sham knows Ram\n"
          ]
        }
      ]
    },
    {
      "cell_type": "code",
      "source": [],
      "metadata": {
        "id": "09Wr4ZfuLUED"
      },
      "execution_count": null,
      "outputs": []
    }
  ]
}